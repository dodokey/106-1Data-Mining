{
 "cells": [
  {
   "cell_type": "code",
   "execution_count": null,
   "metadata": {
    "collapsed": false
   },
   "outputs": [
    {
     "name": "stdout",
     "output_type": "stream",
     "text": [
      "Accuracy: 88.74%\n",
      "ok\n",
      "('state Accuracy:', 0.94381190937037462)"
     ]
    }
   ],
   "source": [
    "import pandas as pd\n",
    "from sklearn.model_selection import train_test_split#split for train or test data\n",
    "from sklearn import tree#create tree\n",
    "import decimal\n",
    "from sklearn.metrics import accuracy_score\n",
    "import numpy as np\n",
    "import jieba\n",
    "import jieba.analyse\n",
    "from sklearn.feature_extraction.text import CountVectorizer\n",
    "from sklearn.feature_extraction.text import TfidfTransformer\n",
    "\n",
    "#------------------------讀取檔案------------------------------------------------\n",
    "df = pd.read_csv(\"complete.csv\", encoding = 'ISO-8859-1')\n",
    "#---------------------資料前置處理-----------------------------------------------\n",
    "delete = []\n",
    "df = df.fillna(0)\n",
    "for i in range(len(df)):\n",
    "    if(df['country'][i] != 'us' or df['country'][i] == 0):\n",
    "        delete.append(i)\n",
    "df = df.drop(df.index[delete])\n",
    "   \n",
    "#--------------------建立MODEL判斷州---------------------------------------------\n",
    "X = df.drop(df.columns[[1,2,3,4,6,7,8]], axis=1)\n",
    "y = df['state']\n",
    "X_train, X_test, y_train, y_test = train_test_split(X, y,test_size=0.25)#75% for training data,remain to test data\n",
    "model = tree.DecisionTreeClassifier()#create tree\n",
    "model = model.fit(X_train, y_train)#train it\n",
    "y_predict = model.predict(X_test)\n",
    "#print(y_predict +' '+ y_test)\n",
    "print(\"Accuracy: \" + str(round(decimal.Decimal(accuracy_score(y_test, y_predict)*100),3)) + '%')\n",
    "\n",
    "\n",
    "#-------------------取COMMENTS關鍵字---------------------------------------------\n",
    "stateArr = set()\n",
    "commentarr = []\n",
    "for i in df.index:\n",
    "    stateArr.add(df['state'][i])\n",
    "stateArr = list(stateArr)\n",
    "for i in range(len(stateArr)):\n",
    "    tmp = \"\"\n",
    "    for j in df.index:\n",
    "        if df['state'][j] == stateArr[i]:\n",
    "            tmp += str(df['comments'][j])\n",
    "    commentarr.append([stateArr[i],tmp])\n",
    "commentarr = np.array(commentarr)\n",
    "keywordarr = []\n",
    "delwords = [' ','','　','&#','44','is','are','was','were','has','have','my','。','，','(',')','/','《','》','「','」','!','．','（','）','、'] # 刪除沒有意義的文字\n",
    "for i in range(commentarr.shape[0]):\n",
    "    words = jieba.cut(commentarr[i][1], cut_all=False)\n",
    "    tmp = ''\n",
    "    for word in words:\n",
    "        if(word not in delwords):\n",
    "            tmp += word+' '\n",
    "    commentarr[i][1] = tmp\n",
    "    keyword = jieba.analyse.extract_tags(commentarr[i][1], 10)\n",
    "    keywordarr.append([commentarr[i][0],keyword])\n",
    "print('ok')\n",
    "\n",
    "\n",
    "#----------------------測試------------------------------------------------\n",
    "\n",
    "testdata=df[['datetime','duration (seconds)','latitude','longitude','state','comments']][int(len(df)*0.75):-1]\n",
    "\n",
    "test=testdata.drop(testdata[['state','comments']],axis=1)\n",
    "testans=testdata['state']\n",
    "commentss=np.array(testdata['comments'])\n",
    "\n",
    "\n",
    "predict_result = model.predict(test)\n",
    "\n",
    "stateaccuracy=accuracy_score(testans, predict_result)\n",
    "print('state Accuracy:',stateaccuracy)\n",
    "\n",
    "\n",
    "wordss = jieba.cut(commentss, cut_all=False)\n",
    "\n",
    "true=0\n",
    "\n",
    "for x in range(len(commentss)):\n",
    "    tmp = 0\n",
    "    user_input_comment=commentss[x]\n",
    "    for i in range(len(keywordarr)):\n",
    "        if(keywordarr[i][0] == predict_result[x]):\n",
    "            words = jieba.cut(user_input_comment, cut_all=False)\n",
    "            keyword_tmp = []\n",
    "            for word in words:\n",
    "                if(word in keywordarr[i][1]):\n",
    "                    \n",
    "                    if(word not in keyword_tmp):\n",
    "                        tmp += 1\n",
    "                        keyword_tmp.append(word)\n",
    "#   print('Your infomation\\'s reliability is', tmp/10*100, '%')\n",
    "    if tmp >= 1:\n",
    "#        print('it can be trusted ! ')\n",
    "        true+=1\n",
    "    else:\n",
    "        continue\n",
    "#        print('fake !')\n",
    "\n",
    "\n",
    "print('True or Fake Accuracy:',float(true)/len(commentss))\n"
   ]
  },
  {
   "cell_type": "code",
   "execution_count": 33,
   "metadata": {
    "collapsed": false
   },
   "outputs": [
    {
     "name": "stdout",
     "output_type": "stream",
     "text": [
      "('state Accuracy:', 0.94375498121370827)\n",
      "('True or Fake Accuracy:', 0.7297620403051349)\n"
     ]
    }
   ],
   "source": []
  },
  {
   "cell_type": "code",
   "execution_count": 30,
   "metadata": {
    "collapsed": false
   },
   "outputs": [
    {
     "data": {
      "text/plain": [
       "0.5"
      ]
     },
     "execution_count": 30,
     "metadata": {},
     "output_type": "execute_result"
    }
   ],
   "source": []
  },
  {
   "cell_type": "code",
   "execution_count": null,
   "metadata": {
    "collapsed": true
   },
   "outputs": [],
   "source": []
  }
 ],
 "metadata": {
  "kernelspec": {
   "display_name": "Python 2",
   "language": "python",
   "name": "python2"
  },
  "language_info": {
   "codemirror_mode": {
    "name": "ipython",
    "version": 2
   },
   "file_extension": ".py",
   "mimetype": "text/x-python",
   "name": "python",
   "nbconvert_exporter": "python",
   "pygments_lexer": "ipython2",
   "version": "2.7.13"
  }
 },
 "nbformat": 4,
 "nbformat_minor": 0
}
