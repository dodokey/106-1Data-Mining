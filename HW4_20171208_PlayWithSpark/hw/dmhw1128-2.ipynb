{
 "cells": [
  {
   "cell_type": "code",
   "execution_count": 1,
   "metadata": {
    "collapsed": false
   },
   "outputs": [
    {
     "data": {
      "text/plain": [
       "'df.pdf'"
      ]
     },
     "execution_count": 1,
     "metadata": {},
     "output_type": "execute_result"
    }
   ],
   "source": [
    "import pandas as pd\n",
    "from sklearn import tree\n",
    "import graphviz\n",
    "from sklearn.model_selection import train_test_split\n",
    "\n",
    "\n",
    "df = pd.read_csv(\"file:/home/hduser/pythonwork/dmhw1208/data/character-deaths.csv\")#讀取資料\n",
    "df=df.fillna(0)#把空值以0替代\n",
    "df.loc[df['Death Year'] > 0, 'Death Year'] = 1.0\n",
    "df=df.drop('Book of Death',axis = 1)\n",
    "df=df.drop('Death Chapter',axis = 1)\n",
    "df = pd.get_dummies(df, columns=['Allegiances'])#將Allegiances底下的家族轉成dummy的特徵\n",
    "df = df.drop('Name',axis = 1)\n",
    "\n",
    "#------------\n",
    "X = df.drop('Death Year', axis=1)\n",
    "y = df['Death Year']\n",
    "\n",
    "X_train, X_test, y_train, y_test = train_test_split(X, y,train_size=0.75,test_size=0.25)#前75%是訓練集、後25%當測試集\n",
    "model = tree.DecisionTreeClassifier()\n",
    "model = model.fit(X_train, y_train)\n",
    "\n",
    "dot_data = tree.export_graphviz(model, out_file=None,max_depth=6)#限制樹的深度，以免結果無法顯示\n",
    "graph = graphviz.Source(dot_data)\n",
    "graph.render(\"df\", view=True)\n",
    "\n"
   ]
  },
  {
   "cell_type": "code",
   "execution_count": 6,
   "metadata": {
    "collapsed": false
   },
   "outputs": [
    {
     "name": "stdout",
     "output_type": "stream",
     "text": [
      "('Precision Rate =', 0.58730158730158732)\n",
      "('Recall Rate =', 0.47435897435897434)\n",
      "('accuracy =', 0.70869565217391306)\n"
     ]
    }
   ],
   "source": [
    "y_predict = model.predict(X_test)\n",
    "from sklearn.metrics import accuracy_score\n",
    "from sklearn.metrics import recall_score\n",
    "from sklearn.metrics import precision_score\n",
    "print('Precision Rate =',precision_score(y_test, y_predict))\n",
    "print('Recall Rate =',recall_score(y_test, y_predict))\n",
    "print('accuracy =',accuracy_score(y_test, y_predict))"
   ]
  },
  {
   "cell_type": "code",
   "execution_count": 7,
   "metadata": {
    "collapsed": false
   },
   "outputs": [
    {
     "data": {
      "text/plain": [
       "'digraph Tree {\\nnode [shape=box] ;\\n0 [label=\"X[6] <= 0.5\\\\ngini = 0.442\\\\nsamples = 687\\\\nvalue = [460, 227]\"] ;\\n1 [label=\"X[7] <= 0.5\\\\ngini = 0.483\\\\nsamples = 495\\\\nvalue = [293, 202]\"] ;\\n0 -> 1 [labeldistance=2.5, labelangle=45, headlabel=\"True\"] ;\\n2 [label=\"X[23] <= 0.5\\\\ngini = 0.5\\\\nsamples = 335\\\\nvalue = [170, 165]\"] ;\\n1 -> 2 ;\\n3 [label=\"X[3] <= 0.5\\\\ngini = 0.495\\\\nsamples = 241\\\\nvalue = [108, 133]\"] ;\\n2 -> 3 ;\\n4 [label=\"X[13] <= 0.5\\\\ngini = 0.498\\\\nsamples = 147\\\\nvalue = [78, 69]\"] ;\\n3 -> 4 ;\\n5 [label=\"X[21] <= 0.5\\\\ngini = 0.493\\\\nsamples = 136\\\\nvalue = [76, 60]\"] ;\\n4 -> 5 ;\\n6 [label=\"X[0] <= 44.5\\\\ngini = 0.497\\\\nsamples = 130\\\\nvalue = [70, 60]\"] ;\\n5 -> 6 ;\\n7 [label=\"(...)\"] ;\\n6 -> 7 ;\\n86 [label=\"(...)\"] ;\\n6 -> 86 ;\\n105 [label=\"gini = 0.0\\\\nsamples = 6\\\\nvalue = [6, 0]\"] ;\\n5 -> 105 ;\\n106 [label=\"X[0] <= 30.5\\\\ngini = 0.298\\\\nsamples = 11\\\\nvalue = [2, 9]\"] ;\\n4 -> 106 ;\\n107 [label=\"gini = 0.0\\\\nsamples = 2\\\\nvalue = [2, 0]\"] ;\\n106 -> 107 ;\\n108 [label=\"gini = 0.0\\\\nsamples = 9\\\\nvalue = [0, 9]\"] ;\\n106 -> 108 ;\\n109 [label=\"X[0] <= 36.0\\\\ngini = 0.435\\\\nsamples = 94\\\\nvalue = [30, 64]\"] ;\\n3 -> 109 ;\\n110 [label=\"X[0] <= 6.0\\\\ngini = 0.355\\\\nsamples = 52\\\\nvalue = [12, 40]\"] ;\\n109 -> 110 ;\\n111 [label=\"X[0] <= 0.5\\\\ngini = 0.153\\\\nsamples = 12\\\\nvalue = [1, 11]\"] ;\\n110 -> 111 ;\\n112 [label=\"(...)\"] ;\\n111 -> 112 ;\\n113 [label=\"(...)\"] ;\\n111 -> 113 ;\\n114 [label=\"X[0] <= 7.5\\\\ngini = 0.399\\\\nsamples = 40\\\\nvalue = [11, 29]\"] ;\\n110 -> 114 ;\\n115 [label=\"(...)\"] ;\\n114 -> 115 ;\\n122 [label=\"(...)\"] ;\\n114 -> 122 ;\\n145 [label=\"X[2] <= 0.5\\\\ngini = 0.49\\\\nsamples = 42\\\\nvalue = [18, 24]\"] ;\\n109 -> 145 ;\\n146 [label=\"X[28] <= 0.5\\\\ngini = 0.483\\\\nsamples = 22\\\\nvalue = [13, 9]\"] ;\\n145 -> 146 ;\\n147 [label=\"(...)\"] ;\\n146 -> 147 ;\\n160 [label=\"(...)\"] ;\\n146 -> 160 ;\\n161 [label=\"X[1] <= 0.5\\\\ngini = 0.375\\\\nsamples = 20\\\\nvalue = [5, 15]\"] ;\\n145 -> 161 ;\\n162 [label=\"(...)\"] ;\\n161 -> 162 ;\\n163 [label=\"(...)\"] ;\\n161 -> 163 ;\\n182 [label=\"X[0] <= 39.5\\\\ngini = 0.449\\\\nsamples = 94\\\\nvalue = [62, 32]\"] ;\\n2 -> 182 ;\\n183 [label=\"X[0] <= 29.5\\\\ngini = 0.496\\\\nsamples = 59\\\\nvalue = [32, 27]\"] ;\\n182 -> 183 ;\\n184 [label=\"X[0] <= 27.5\\\\ngini = 0.461\\\\nsamples = 36\\\\nvalue = [23, 13]\"] ;\\n183 -> 184 ;\\n185 [label=\"X[0] <= 1.5\\\\ngini = 0.495\\\\nsamples = 29\\\\nvalue = [16, 13]\"] ;\\n184 -> 185 ;\\n186 [label=\"(...)\"] ;\\n185 -> 186 ;\\n187 [label=\"(...)\"] ;\\n185 -> 187 ;\\n212 [label=\"gini = 0.0\\\\nsamples = 7\\\\nvalue = [7, 0]\"] ;\\n184 -> 212 ;\\n213 [label=\"X[2] <= 0.5\\\\ngini = 0.476\\\\nsamples = 23\\\\nvalue = [9, 14]\"] ;\\n183 -> 213 ;\\n214 [label=\"X[4] <= 0.5\\\\ngini = 0.432\\\\nsamples = 19\\\\nvalue = [6, 13]\"] ;\\n213 -> 214 ;\\n215 [label=\"(...)\"] ;\\n214 -> 215 ;\\n224 [label=\"(...)\"] ;\\n214 -> 224 ;\\n229 [label=\"X[5] <= 0.5\\\\ngini = 0.375\\\\nsamples = 4\\\\nvalue = [3, 1]\"] ;\\n213 -> 229 ;\\n230 [label=\"(...)\"] ;\\n229 -> 230 ;\\n231 [label=\"(...)\"] ;\\n229 -> 231 ;\\n232 [label=\"X[0] <= 45.0\\\\ngini = 0.245\\\\nsamples = 35\\\\nvalue = [30, 5]\"] ;\\n182 -> 232 ;\\n233 [label=\"gini = 0.0\\\\nsamples = 9\\\\nvalue = [9, 0]\"] ;\\n232 -> 233 ;\\n234 [label=\"X[0] <= 46.5\\\\ngini = 0.311\\\\nsamples = 26\\\\nvalue = [21, 5]\"] ;\\n232 -> 234 ;\\n235 [label=\"gini = 0.0\\\\nsamples = 1\\\\nvalue = [0, 1]\"] ;\\n234 -> 235 ;\\n236 [label=\"X[0] <= 62.0\\\\ngini = 0.269\\\\nsamples = 25\\\\nvalue = [21, 4]\"] ;\\n234 -> 236 ;\\n237 [label=\"(...)\"] ;\\n236 -> 237 ;\\n250 [label=\"(...)\"] ;\\n236 -> 250 ;\\n251 [label=\"X[0] <= 0.5\\\\ngini = 0.356\\\\nsamples = 160\\\\nvalue = [123, 37]\"] ;\\n1 -> 251 ;\\n252 [label=\"X[4] <= 0.5\\\\ngini = 0.5\\\\nsamples = 14\\\\nvalue = [7, 7]\"] ;\\n251 -> 252 ;\\n253 [label=\"X[28] <= 0.5\\\\ngini = 0.42\\\\nsamples = 10\\\\nvalue = [3, 7]\"] ;\\n252 -> 253 ;\\n254 [label=\"X[17] <= 0.5\\\\ngini = 0.245\\\\nsamples = 7\\\\nvalue = [1, 6]\"] ;\\n253 -> 254 ;\\n255 [label=\"gini = 0.278\\\\nsamples = 6\\\\nvalue = [1, 5]\"] ;\\n254 -> 255 ;\\n256 [label=\"gini = 0.0\\\\nsamples = 1\\\\nvalue = [0, 1]\"] ;\\n254 -> 256 ;\\n257 [label=\"X[1] <= 0.5\\\\ngini = 0.444\\\\nsamples = 3\\\\nvalue = [2, 1]\"] ;\\n253 -> 257 ;\\n258 [label=\"gini = 0.5\\\\nsamples = 2\\\\nvalue = [1, 1]\"] ;\\n257 -> 258 ;\\n259 [label=\"gini = 0.0\\\\nsamples = 1\\\\nvalue = [1, 0]\"] ;\\n257 -> 259 ;\\n260 [label=\"gini = 0.0\\\\nsamples = 4\\\\nvalue = [4, 0]\"] ;\\n252 -> 260 ;\\n261 [label=\"X[28] <= 0.5\\\\ngini = 0.327\\\\nsamples = 146\\\\nvalue = [116, 30]\"] ;\\n251 -> 261 ;\\n262 [label=\"X[13] <= 0.5\\\\ngini = 0.292\\\\nsamples = 135\\\\nvalue = [111, 24]\"] ;\\n261 -> 262 ;\\n263 [label=\"X[12] <= 0.5\\\\ngini = 0.278\\\\nsamples = 132\\\\nvalue = [110, 22]\"] ;\\n262 -> 263 ;\\n264 [label=\"X[24] <= 0.5\\\\ngini = 0.269\\\\nsamples = 131\\\\nvalue = [110, 21]\"] ;\\n263 -> 264 ;\\n265 [label=\"(...)\"] ;\\n264 -> 265 ;\\n328 [label=\"(...)\"] ;\\n264 -> 328 ;\\n329 [label=\"gini = 0.0\\\\nsamples = 1\\\\nvalue = [0, 1]\"] ;\\n263 -> 329 ;\\n330 [label=\"X[0] <= 10.5\\\\ngini = 0.444\\\\nsamples = 3\\\\nvalue = [1, 2]\"] ;\\n262 -> 330 ;\\n331 [label=\"gini = 0.0\\\\nsamples = 1\\\\nvalue = [1, 0]\"] ;\\n330 -> 331 ;\\n332 [label=\"gini = 0.0\\\\nsamples = 2\\\\nvalue = [0, 2]\"] ;\\n330 -> 332 ;\\n333 [label=\"X[0] <= 11.0\\\\ngini = 0.496\\\\nsamples = 11\\\\nvalue = [5, 6]\"] ;\\n261 -> 333 ;\\n334 [label=\"gini = 0.0\\\\nsamples = 2\\\\nvalue = [2, 0]\"] ;\\n333 -> 334 ;\\n335 [label=\"X[0] <= 42.5\\\\ngini = 0.444\\\\nsamples = 9\\\\nvalue = [3, 6]\"] ;\\n333 -> 335 ;\\n336 [label=\"X[0] <= 36.0\\\\ngini = 0.278\\\\nsamples = 6\\\\nvalue = [1, 5]\"] ;\\n335 -> 336 ;\\n337 [label=\"(...)\"] ;\\n336 -> 337 ;\\n340 [label=\"(...)\"] ;\\n336 -> 340 ;\\n341 [label=\"X[5] <= 0.5\\\\ngini = 0.444\\\\nsamples = 3\\\\nvalue = [2, 1]\"] ;\\n335 -> 341 ;\\n342 [label=\"(...)\"] ;\\n341 -> 342 ;\\n343 [label=\"(...)\"] ;\\n341 -> 343 ;\\n344 [label=\"X[23] <= 0.5\\\\ngini = 0.227\\\\nsamples = 192\\\\nvalue = [167, 25]\"] ;\\n0 -> 344 [labeldistance=2.5, labelangle=-45, headlabel=\"False\"] ;\\n345 [label=\"X[0] <= 56.5\\\\ngini = 0.161\\\\nsamples = 147\\\\nvalue = [134, 13]\"] ;\\n344 -> 345 ;\\n346 [label=\"X[14] <= 0.5\\\\ngini = 0.124\\\\nsamples = 135\\\\nvalue = [126, 9]\"] ;\\n345 -> 346 ;\\n347 [label=\"X[22] <= 0.5\\\\ngini = 0.101\\\\nsamples = 131\\\\nvalue = [124, 7]\"] ;\\n346 -> 347 ;\\n348 [label=\"X[2] <= 0.5\\\\ngini = 0.079\\\\nsamples = 122\\\\nvalue = [117, 5]\"] ;\\n347 -> 348 ;\\n349 [label=\"X[7] <= 0.5\\\\ngini = 0.17\\\\nsamples = 32\\\\nvalue = [29, 3]\"] ;\\n348 -> 349 ;\\n350 [label=\"(...)\"] ;\\n349 -> 350 ;\\n357 [label=\"(...)\"] ;\\n349 -> 357 ;\\n364 [label=\"X[0] <= 1.5\\\\ngini = 0.043\\\\nsamples = 90\\\\nvalue = [88, 2]\"] ;\\n348 -> 364 ;\\n365 [label=\"(...)\"] ;\\n364 -> 365 ;\\n370 [label=\"(...)\"] ;\\n364 -> 370 ;\\n377 [label=\"X[0] <= 20.0\\\\ngini = 0.346\\\\nsamples = 9\\\\nvalue = [7, 2]\"] ;\\n347 -> 377 ;\\n378 [label=\"gini = 0.0\\\\nsamples = 4\\\\nvalue = [4, 0]\"] ;\\n377 -> 378 ;\\n379 [label=\"X[2] <= 0.5\\\\ngini = 0.48\\\\nsamples = 5\\\\nvalue = [3, 2]\"] ;\\n377 -> 379 ;\\n380 [label=\"(...)\"] ;\\n379 -> 380 ;\\n383 [label=\"(...)\"] ;\\n379 -> 383 ;\\n384 [label=\"X[0] <= 20.5\\\\ngini = 0.5\\\\nsamples = 4\\\\nvalue = [2, 2]\"] ;\\n346 -> 384 ;\\n385 [label=\"gini = 0.0\\\\nsamples = 2\\\\nvalue = [0, 2]\"] ;\\n384 -> 385 ;\\n386 [label=\"gini = 0.0\\\\nsamples = 2\\\\nvalue = [2, 0]\"] ;\\n384 -> 386 ;\\n387 [label=\"X[0] <= 59.0\\\\ngini = 0.444\\\\nsamples = 12\\\\nvalue = [8, 4]\"] ;\\n345 -> 387 ;\\n388 [label=\"gini = 0.0\\\\nsamples = 2\\\\nvalue = [0, 2]\"] ;\\n387 -> 388 ;\\n389 [label=\"X[10] <= 0.5\\\\ngini = 0.32\\\\nsamples = 10\\\\nvalue = [8, 2]\"] ;\\n387 -> 389 ;\\n390 [label=\"X[4] <= 0.5\\\\ngini = 0.198\\\\nsamples = 9\\\\nvalue = [8, 1]\"] ;\\n389 -> 390 ;\\n391 [label=\"X[2] <= 0.5\\\\ngini = 0.5\\\\nsamples = 2\\\\nvalue = [1, 1]\"] ;\\n390 -> 391 ;\\n392 [label=\"(...)\"] ;\\n391 -> 392 ;\\n393 [label=\"(...)\"] ;\\n391 -> 393 ;\\n394 [label=\"gini = 0.0\\\\nsamples = 7\\\\nvalue = [7, 0]\"] ;\\n390 -> 394 ;\\n395 [label=\"gini = 0.0\\\\nsamples = 1\\\\nvalue = [0, 1]\"] ;\\n389 -> 395 ;\\n396 [label=\"X[5] <= 0.5\\\\ngini = 0.391\\\\nsamples = 45\\\\nvalue = [33, 12]\"] ;\\n344 -> 396 ;\\n397 [label=\"X[0] <= 16.5\\\\ngini = 0.278\\\\nsamples = 30\\\\nvalue = [25, 5]\"] ;\\n396 -> 397 ;\\n398 [label=\"X[0] <= 12.5\\\\ngini = 0.444\\\\nsamples = 12\\\\nvalue = [8, 4]\"] ;\\n397 -> 398 ;\\n399 [label=\"X[0] <= 2.5\\\\ngini = 0.397\\\\nsamples = 11\\\\nvalue = [8, 3]\"] ;\\n398 -> 399 ;\\n400 [label=\"X[4] <= 0.5\\\\ngini = 0.5\\\\nsamples = 4\\\\nvalue = [2, 2]\"] ;\\n399 -> 400 ;\\n401 [label=\"(...)\"] ;\\n400 -> 401 ;\\n402 [label=\"(...)\"] ;\\n400 -> 402 ;\\n403 [label=\"X[0] <= 7.5\\\\ngini = 0.245\\\\nsamples = 7\\\\nvalue = [6, 1]\"] ;\\n399 -> 403 ;\\n404 [label=\"(...)\"] ;\\n403 -> 404 ;\\n405 [label=\"(...)\"] ;\\n403 -> 405 ;\\n408 [label=\"gini = 0.0\\\\nsamples = 1\\\\nvalue = [0, 1]\"] ;\\n398 -> 408 ;\\n409 [label=\"X[0] <= 32.5\\\\ngini = 0.105\\\\nsamples = 18\\\\nvalue = [17, 1]\"] ;\\n397 -> 409 ;\\n410 [label=\"X[0] <= 30.5\\\\ngini = 0.198\\\\nsamples = 9\\\\nvalue = [8, 1]\"] ;\\n409 -> 410 ;\\n411 [label=\"gini = 0.0\\\\nsamples = 7\\\\nvalue = [7, 0]\"] ;\\n410 -> 411 ;\\n412 [label=\"gini = 0.5\\\\nsamples = 2\\\\nvalue = [1, 1]\"] ;\\n410 -> 412 ;\\n413 [label=\"gini = 0.0\\\\nsamples = 9\\\\nvalue = [9, 0]\"] ;\\n409 -> 413 ;\\n414 [label=\"X[3] <= 0.5\\\\ngini = 0.498\\\\nsamples = 15\\\\nvalue = [8, 7]\"] ;\\n396 -> 414 ;\\n415 [label=\"X[2] <= 0.5\\\\ngini = 0.444\\\\nsamples = 9\\\\nvalue = [3, 6]\"] ;\\n414 -> 415 ;\\n416 [label=\"X[0] <= 18.5\\\\ngini = 0.375\\\\nsamples = 8\\\\nvalue = [2, 6]\"] ;\\n415 -> 416 ;\\n417 [label=\"X[0] <= 7.0\\\\ngini = 0.444\\\\nsamples = 3\\\\nvalue = [2, 1]\"] ;\\n416 -> 417 ;\\n418 [label=\"(...)\"] ;\\n417 -> 418 ;\\n419 [label=\"(...)\"] ;\\n417 -> 419 ;\\n420 [label=\"gini = 0.0\\\\nsamples = 5\\\\nvalue = [0, 5]\"] ;\\n416 -> 420 ;\\n421 [label=\"gini = 0.0\\\\nsamples = 1\\\\nvalue = [1, 0]\"] ;\\n415 -> 421 ;\\n422 [label=\"X[0] <= 12.5\\\\ngini = 0.278\\\\nsamples = 6\\\\nvalue = [5, 1]\"] ;\\n414 -> 422 ;\\n423 [label=\"gini = 0.0\\\\nsamples = 1\\\\nvalue = [0, 1]\"] ;\\n422 -> 423 ;\\n424 [label=\"gini = 0.0\\\\nsamples = 5\\\\nvalue = [5, 0]\"] ;\\n422 -> 424 ;\\n}'"
      ]
     },
     "execution_count": 7,
     "metadata": {},
     "output_type": "execute_result"
    }
   ],
   "source": []
  },
  {
   "cell_type": "code",
   "execution_count": null,
   "metadata": {
    "collapsed": true
   },
   "outputs": [],
   "source": []
  },
  {
   "cell_type": "code",
   "execution_count": null,
   "metadata": {
    "collapsed": true
   },
   "outputs": [],
   "source": []
  },
  {
   "cell_type": "code",
   "execution_count": null,
   "metadata": {
    "collapsed": true
   },
   "outputs": [],
   "source": []
  },
  {
   "cell_type": "code",
   "execution_count": null,
   "metadata": {
    "collapsed": true
   },
   "outputs": [],
   "source": []
  },
  {
   "cell_type": "code",
   "execution_count": null,
   "metadata": {
    "collapsed": true
   },
   "outputs": [],
   "source": []
  }
 ],
 "metadata": {
  "kernelspec": {
   "display_name": "Python 2",
   "language": "python",
   "name": "python2"
  },
  "language_info": {
   "codemirror_mode": {
    "name": "ipython",
    "version": 2
   },
   "file_extension": ".py",
   "mimetype": "text/x-python",
   "name": "python",
   "nbconvert_exporter": "python",
   "pygments_lexer": "ipython2",
   "version": "2.7.13"
  }
 },
 "nbformat": 4,
 "nbformat_minor": 0
}
