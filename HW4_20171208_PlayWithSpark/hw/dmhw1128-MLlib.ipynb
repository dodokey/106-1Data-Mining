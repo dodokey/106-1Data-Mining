{
 "cells": [
  {
   "cell_type": "code",
   "execution_count": 3,
   "metadata": {
    "collapsed": false,
    "scrolled": true
   },
   "outputs": [],
   "source": [
    "import pandas as pd\n",
    "#from sklearn import tree\n",
    "import graphviz\n",
    "#from sklearn.model_selection import train_test_split\n",
    "from pyspark.mllib.regression import LabeledPoint\n",
    "from pyspark.mllib.tree import DecisionTree\n",
    "from pyspark.mllib.util import MLUtils\n",
    "from pyspark.mllib.evaluation import MulticlassMetrics\n",
    "\n",
    "df = pd.read_csv(\"file:/home/hduser/pythonwork/dmhw1208/data/character-deaths.csv\")#讀取資料\n",
    "df=df.fillna(0)#把空值以0替代\n",
    "df.loc[df['Death Year'] > 0, 'Death Year'] = 1.0\n",
    "df=df.drop('Book of Death',axis = 1)\n",
    "df=df.drop('Death Chapter',axis = 1)\n",
    "df = pd.get_dummies(df, columns=['Allegiances'])#將Allegiances底下的家族轉成dummy的特徵\n",
    "df = df.drop('Name',axis = 1)\n",
    "\n",
    "#------------\n",
    "\n",
    "\n",
    "x = df.drop('Death Year', axis=1)\n",
    "y = df['Death Year']\n",
    "\n",
    "\n",
    "from sklearn.datasets import dump_svmlight_file\n",
    "dump_svmlight_file(x, y, 'svm-output.libsvm')  # where is your y?\n",
    "from sklearn.datasets import load_svmlight_file\n",
    "#data = load_svmlight_file(\"svm-output.libsvm\")\n",
    "#labelIndexer = StringIndexer(inputCol=\"Death Year\", outputCol=\"Death Year\").fit(df)\n",
    "\n",
    "\n",
    "#X = df.drop('Death Year', axis=1)\n",
    "#y = df['Death Year']\n",
    "\n",
    "#X_train, X_test, y_train, y_test = train_test_split(X, y,train_size=0.75,test_size=0.25)#前75%是訓練集、後25%當測試集\n",
    "\n",
    "#model=DecisionTree.trainClassifier(X_train,2,y_train,\"gini\",10,2)\n",
    "\n",
    "#model = tree.DecisionTreeClassifier()\n",
    "#model = model.fit(X_train, y_train)\n",
    "\n",
    "#dot_data = tree.export_graphviz(model, out_file=None,max_depth=6)#限制樹的深度，以免結果無法顯示\n",
    "#graph = graphviz.Source(dot_data)\n",
    "#graph.render(\"df\", view=True)"
   ]
  },
  {
   "cell_type": "code",
   "execution_count": null,
   "metadata": {
    "collapsed": true
   },
   "outputs": [],
   "source": []
  },
  {
   "cell_type": "code",
   "execution_count": 8,
   "metadata": {
    "collapsed": false
   },
   "outputs": [
    {
     "name": "stdout",
     "output_type": "stream",
     "text": [
      "Precision = 0.626666666667\n",
      "Recall = 0.61038961039\n",
      "Accuracy = 0.725118483412\n"
     ]
    }
   ],
   "source": [
    "from pyspark.mllib.tree import DecisionTree, DecisionTreeModel\n",
    "from pyspark.mllib.util import MLUtils\n",
    "from pyspark.mllib.evaluation import BinaryClassificationMetrics\n",
    "from pyspark.mllib.evaluation import MulticlassMetrics\n",
    "from pyspark.mllib.evaluation import MultilabelMetrics\n",
    "\n",
    "data  = MLUtils.loadLibSVMFile(sc,\"svm-output.libsvm\")\n",
    "(trainingData, testData) = data.randomSplit([0.75, 0.25])\n",
    "model = DecisionTree.trainClassifier(trainingData, numClasses=2, categoricalFeaturesInfo={},impurity='gini', maxDepth=5, maxBins=32)\n",
    "\n",
    "predictions = model.predict(testData.map(lambda x: x.features))\n",
    "labelsAndPredictions = testData.map(lambda lp: lp.label).zip(predictions)\n",
    "\n",
    "#[0]:正確 [1]:預測\n",
    "\n",
    "#Accuracy = labelsAndPredictions.filter(lambda lp: lp[0] == lp[1]).count() / float(testData.count())\n",
    "#Recall = labelsAndPredictions.filter(lambda lp: lp[0] == lp[1]==1).count() / float(labelsAndPredictions.filter(lambda lp: lp[0]==1).count())\n",
    "#Precision = labelsAndPredictions.filter(lambda lp: lp[0] == lp[1]==1).count() / float(labelsAndPredictions.filter(lambda lp: lp[1]==1).count())\n",
    "#print(\"Summary Stats:\")\n",
    "#print('accuracy = ' + str(Accuracy))\n",
    "#print('Recall = ' + str(Recall))\n",
    "#print('Precision = ' + str(Precision))\n",
    "\n",
    "\n",
    "#zz=labelsAndPredictions.take(20000)\n",
    "#scoreAndLabels = sc.parallelize(zz)\n",
    "\n",
    "#算出來怪怪ㄉ 修好了！-------------------------\n",
    "metrics = MulticlassMetrics(labelsAndPredictions)\n",
    "precision = metrics.precision(label=1)\n",
    "recall = metrics.recall(label=1)\n",
    "Accuracy = metrics.accuracy\n",
    "print(\"Precision = %s\" % precision)\n",
    "print(\"Recall = %s\" % recall)\n",
    "print(\"Accuracy = %s\" % Accuracy)\n",
    "#算出來怪怪ㄉ-------------------------\n",
    "\n",
    "\n",
    "\n",
    "\n",
    "\n",
    "\n",
    "\n",
    "#print('Learned classification tree model:')\n",
    "#print(model.toDebugString())\n",
    "\n",
    "\n",
    "#model.save(sc, \"myDecisionTreeClassificationModel\")\n",
    "#sameModel = DecisionTreeModel.load(sc, \"myDecisionTreeClassificationModel\")\n"
   ]
  },
  {
   "cell_type": "code",
   "execution_count": null,
   "metadata": {
    "collapsed": false
   },
   "outputs": [],
   "source": []
  },
  {
   "cell_type": "code",
   "execution_count": null,
   "metadata": {
    "collapsed": false
   },
   "outputs": [],
   "source": []
  },
  {
   "cell_type": "code",
   "execution_count": null,
   "metadata": {
    "collapsed": false
   },
   "outputs": [],
   "source": []
  },
  {
   "cell_type": "code",
   "execution_count": null,
   "metadata": {
    "collapsed": true
   },
   "outputs": [],
   "source": []
  },
  {
   "cell_type": "code",
   "execution_count": null,
   "metadata": {
    "collapsed": true
   },
   "outputs": [],
   "source": []
  },
  {
   "cell_type": "code",
   "execution_count": null,
   "metadata": {
    "collapsed": true
   },
   "outputs": [],
   "source": []
  }
 ],
 "metadata": {
  "kernelspec": {
   "display_name": "Python 2",
   "language": "python",
   "name": "python2"
  },
  "language_info": {
   "codemirror_mode": {
    "name": "ipython",
    "version": 2
   },
   "file_extension": ".py",
   "mimetype": "text/x-python",
   "name": "python",
   "nbconvert_exporter": "python",
   "pygments_lexer": "ipython2",
   "version": "2.7.13"
  }
 },
 "nbformat": 4,
 "nbformat_minor": 0
}
