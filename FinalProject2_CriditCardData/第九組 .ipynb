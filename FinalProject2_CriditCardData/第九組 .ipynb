{
 "cells": [
  {
   "cell_type": "code",
   "execution_count": 85,
   "metadata": {
    "collapsed": true
   },
   "outputs": [],
   "source": [
    "import pandas as pd\n",
    "\n",
    "#------------------------讀取檔案------------------------------------------------\n",
    "creditcard = pd.read_csv(\"UCI_Credit_Card.csv\", encoding = 'ISO-8859-1')\n",
    "df = creditcard.copy()\n",
    "\n",
    "#---------------------資料前置處理-----------------------------------------------\n",
    "df = df.drop('ID',axis = 1)\n",
    "\n",
    "df.EDUCATION = df.EDUCATION.map({1:1,2:2,3:3,4:4,5:0,6:0,0:0})#0視為unknown資料\n",
    "df.MARRIAGE = df.MARRIAGE.map({0:0,1:1,2:2,3:3})#0視為unknown資料\n",
    "\n",
    "df = pd.get_dummies(df, columns=['SEX'])\n",
    "df = pd.get_dummies(df, columns=['EDUCATION'])\n",
    "df = pd.get_dummies(df, columns=['MARRIAGE'])\n",
    "df = pd.get_dummies(df, columns=['PAY_0'])\n",
    "df = pd.get_dummies(df, columns=['PAY_2'])\n",
    "df = pd.get_dummies(df, columns=['PAY_3'])\n",
    "df = pd.get_dummies(df, columns=['PAY_4'])\n",
    "df = pd.get_dummies(df, columns=['PAY_5'])\n",
    "df = pd.get_dummies(df, columns=['PAY_6'])\n"
   ]
  },
  {
   "cell_type": "code",
   "execution_count": 86,
   "metadata": {
    "collapsed": false
   },
   "outputs": [
    {
     "name": "stdout",
     "output_type": "stream",
     "text": [
      "Accuracy = 0.812269615587\n"
     ]
    }
   ],
   "source": [
    "#---------------------decision tree-----------------------------------------------\n",
    "x = df.drop('default.payment.next.month', axis=1)\n",
    "y = df['default.payment.next.month']\n",
    "\n",
    "from sklearn.datasets import dump_svmlight_file\n",
    "dump_svmlight_file(x, y, 'svm-output.libsvm')  # where is your y?\n",
    "from sklearn.datasets import load_svmlight_file\n",
    "\n",
    "\n",
    "from pyspark.mllib.tree import DecisionTree, DecisionTreeModel\n",
    "from pyspark.mllib.util import MLUtils\n",
    "from pyspark.mllib.evaluation import MulticlassMetrics\n",
    "\n",
    "\n",
    "data  = MLUtils.loadLibSVMFile(sc,\"svm-output.libsvm\")\n",
    "(trainingData, testData) = data.randomSplit([0.75, 0.25])\n",
    "model = DecisionTree.trainClassifier(trainingData, numClasses=2, categoricalFeaturesInfo={},impurity='gini', maxDepth=5, maxBins=32)\n",
    "\n",
    "predictions = model.predict(testData.map(lambda x: x.features))\n",
    "labelsAndPredictions = testData.map(lambda lp: lp.label).zip(predictions)\n",
    "\n",
    "#zz=labelsAndPredictions.take(30)\n",
    "#scoreAndLabels = sc.parallelize(zz)\n",
    "\n",
    "#算出來怪怪ㄉ 修好了！-------------------------\n",
    "metrics = MulticlassMetrics(labelsAndPredictions)\n",
    "precision = metrics.precision(label=1)\n",
    "recall = metrics.recall(label=1)\n",
    "Accuracy = metrics.accuracy\n",
    "print(\"decision tree Accuracy = %s\" % Accuracy)\n",
    "#算出來怪怪ㄉ-------------------------\n"
   ]
  },
  {
   "cell_type": "code",
   "execution_count": 87,
   "metadata": {
    "collapsed": false
   },
   "outputs": [
    {
     "name": "stdout",
     "output_type": "stream",
     "text": [
      "Accuracy = 0.803185887309\n"
     ]
    }
   ],
   "source": [
    "#---------------------RandomForest-----------------------------------------------\n",
    "from pyspark.mllib.tree import RandomForest, RandomForestModel\n",
    "from pyspark.mllib.util import MLUtils\n",
    "\n",
    "model = RandomForest.trainClassifier(trainingData, numClasses=2, categoricalFeaturesInfo={},\n",
    "                                     numTrees=3, featureSubsetStrategy=\"auto\",\n",
    "                                     impurity='gini', maxDepth=4, maxBins=32)\n",
    "\n",
    "# Evaluate model on test instances and compute test error\n",
    "predictions = model.predict(testData.map(lambda x: x.features))\n",
    "labelsAndPredictions = testData.map(lambda lp: lp.label).zip(predictions)\n",
    "\n",
    "\n",
    "#print('Learned classification forest model:')\n",
    "#print(model.toDebugString())\n",
    "\n",
    "# Save and load model\n",
    "#model.save(sc, \"target/tmp/myRandomForestClassificationModel\")\n",
    "#sameModel = RandomForestModel.load(sc, \"target/tmp/myRandomForestClassificationModel\")\n",
    "\n",
    "metrics = MulticlassMetrics(labelsAndPredictions)\n",
    "precision = metrics.precision(label=1)\n",
    "recall = metrics.recall(label=1)\n",
    "Accuracy = metrics.accuracy\n",
    "print(\"RandomForest Accuracy = %s\" % Accuracy)\n"
   ]
  },
  {
   "cell_type": "code",
   "execution_count": 88,
   "metadata": {
    "collapsed": false
   },
   "outputs": [
    {
     "name": "stdout",
     "output_type": "stream",
     "text": [
      "('10NN accuracy =', 0.78280000000000005)\n"
     ]
    }
   ],
   "source": [
    "#---------------------10NN-----------------------------------------------\n",
    "from sklearn.neighbors import KNeighborsClassifier\n",
    "from sklearn.model_selection import train_test_split\n",
    "\n",
    "X_train, X_test, y_train, y_test = train_test_split(x, y,train_size=0.75,test_size=0.25)\n",
    "neigh = KNeighborsClassifier(n_neighbors=20)\n",
    "neigh=neigh.fit(X_train, y_train) \n",
    "neigh_predict = neigh.predict(X_test)\n",
    "print('10NN accuracy =',accuracy_score(y_test, neigh_predict))"
   ]
  },
  {
   "cell_type": "code",
   "execution_count": null,
   "metadata": {
    "collapsed": true
   },
   "outputs": [],
   "source": []
  },
  {
   "cell_type": "code",
   "execution_count": null,
   "metadata": {
    "collapsed": true
   },
   "outputs": [],
   "source": []
  }
 ],
 "metadata": {
  "kernelspec": {
   "display_name": "Python 2",
   "language": "python",
   "name": "python2"
  },
  "language_info": {
   "codemirror_mode": {
    "name": "ipython",
    "version": 2
   },
   "file_extension": ".py",
   "mimetype": "text/x-python",
   "name": "python",
   "nbconvert_exporter": "python",
   "pygments_lexer": "ipython2",
   "version": "2.7.13"
  }
 },
 "nbformat": 4,
 "nbformat_minor": 0
}
